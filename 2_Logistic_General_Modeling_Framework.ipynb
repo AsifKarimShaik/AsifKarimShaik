{
  "nbformat": 4,
  "nbformat_minor": 0,
  "metadata": {
    "colab": {
      "provenance": [],
      "include_colab_link": true
    },
    "kernelspec": {
      "name": "python3",
      "display_name": "Python 3"
    }
  },
  "cells": [
    {
      "cell_type": "markdown",
      "metadata": {
        "id": "view-in-github",
        "colab_type": "text"
      },
      "source": [
        "<a href=\"https://colab.research.google.com/github/AsifKarimShaik/AsifKarimShaik/blob/main/2_Logistic_General_Modeling_Framework.ipynb\" target=\"_parent\"><img src=\"https://colab.research.google.com/assets/colab-badge.svg\" alt=\"Open In Colab\"/></a>"
      ]
    },
    {
      "cell_type": "markdown",
      "metadata": {
        "id": "zehws9Rhsk2m"
      },
      "source": [
        "# Logistic Regression with CA Housing\n",
        "-------------------------------------------------\n",
        "\n",
        "**Dr. Dave Wanik - University of Connecticut**\n",
        "\n",
        "\n",
        "This is a bare-bones script to get you up and running with classification. For a given dataset, you should be able to code relevant content in the cells below.\n",
        "\n",
        "💡 Note that this 'recipe' is VERY similar for a regression problem - you just need to use a different model and different error metrics."
      ]
    },
    {
      "cell_type": "markdown",
      "metadata": {
        "id": "xhEQ0UwesvAB"
      },
      "source": [
        "## Getting started\n",
        "Import modules, mount Drive, read in the data, check data types and missing values. You may also do some light EDA prior to modeling.\n",
        "\n",
        "Notice how we are using the same functions over and over again... it really is like following a recipe.\n"
      ]
    },
    {
      "cell_type": "code",
      "metadata": {
        "id": "QqeDxYgSs2OG"
      },
      "source": [
        "# import modules we need for EDA and wrangling\n",
        "import pandas as pd\n",
        "import numpy as np\n",
        "import matplotlib.pyplot as plt\n",
        "import seaborn as sns\n",
        "\n",
        "# import other functions we'll need for classification modeling\n",
        "from sklearn.preprocessing import  MinMaxScaler\n",
        "from sklearn.model_selection import train_test_split\n",
        "from sklearn.linear_model import LogisticRegression # logistic\n",
        "\n",
        "# classification error metrics\n",
        "from sklearn.metrics import classification_report\n",
        "from sklearn.metrics import confusion_matrix"
      ],
      "execution_count": null,
      "outputs": []
    },
    {
      "cell_type": "code",
      "metadata": {
        "id": "W8O70GwnxfXY"
      },
      "source": [
        "# # mount your google drive\n",
        "# from google.colab import drive\n",
        "# drive.mount('/content/drive')"
      ],
      "execution_count": null,
      "outputs": []
    },
    {
      "cell_type": "code",
      "metadata": {
        "id": "zrD3Xocnxv1c"
      },
      "source": [
        "# read in some data\n",
        "df = pd.read_csv('/content/sample_data/california_housing_train.csv')"
      ],
      "execution_count": null,
      "outputs": []
    },
    {
      "cell_type": "code",
      "metadata": {
        "id": "e7PnTKNZyHfm",
        "colab": {
          "base_uri": "https://localhost:8080/",
          "height": 588
        },
        "outputId": "f1483740-1be2-476d-b481-26fe0d86446a"
      },
      "source": [
        "# data type, shape and columns\n",
        "\n",
        "print(\"This is the shape :\\n\", df.shape, '\\n') # escape characters are fun! \\n adds a return line\n",
        "print(\"These are the column names: \\n\", df.columns, '\\n') # helps keep things nice and clean\n",
        "print(\"These are the data types: \\n\", df.dtypes)\n",
        "print(\"\\nThis is the head:\") # see how I can pop that \\n anywhere?\n",
        "df.head()   # also note how much stuff I have pasted in ONE CELL...\n",
        "            # now you are cooking with gas!"
      ],
      "execution_count": null,
      "outputs": [
        {
          "output_type": "stream",
          "name": "stdout",
          "text": [
            "This is the shape :\n",
            " (17000, 9) \n",
            "\n",
            "These are the column names: \n",
            " Index(['longitude', 'latitude', 'housing_median_age', 'total_rooms',\n",
            "       'total_bedrooms', 'population', 'households', 'median_income',\n",
            "       'median_house_value'],\n",
            "      dtype='object') \n",
            "\n",
            "These are the data types: \n",
            " longitude             float64\n",
            "latitude              float64\n",
            "housing_median_age    float64\n",
            "total_rooms           float64\n",
            "total_bedrooms        float64\n",
            "population            float64\n",
            "households            float64\n",
            "median_income         float64\n",
            "median_house_value    float64\n",
            "dtype: object\n",
            "\n",
            "This is the head:\n"
          ]
        },
        {
          "output_type": "execute_result",
          "data": {
            "text/plain": [
              "   longitude  latitude  housing_median_age  total_rooms  total_bedrooms  \\\n",
              "0    -114.31     34.19                15.0       5612.0          1283.0   \n",
              "1    -114.47     34.40                19.0       7650.0          1901.0   \n",
              "2    -114.56     33.69                17.0        720.0           174.0   \n",
              "3    -114.57     33.64                14.0       1501.0           337.0   \n",
              "4    -114.57     33.57                20.0       1454.0           326.0   \n",
              "\n",
              "   population  households  median_income  median_house_value  \n",
              "0      1015.0       472.0         1.4936             66900.0  \n",
              "1      1129.0       463.0         1.8200             80100.0  \n",
              "2       333.0       117.0         1.6509             85700.0  \n",
              "3       515.0       226.0         3.1917             73400.0  \n",
              "4       624.0       262.0         1.9250             65500.0  "
            ],
            "text/html": [
              "\n",
              "  <div id=\"df-e83f7cd6-439e-427d-b5ea-de0f87dafb1d\">\n",
              "    <div class=\"colab-df-container\">\n",
              "      <div>\n",
              "<style scoped>\n",
              "    .dataframe tbody tr th:only-of-type {\n",
              "        vertical-align: middle;\n",
              "    }\n",
              "\n",
              "    .dataframe tbody tr th {\n",
              "        vertical-align: top;\n",
              "    }\n",
              "\n",
              "    .dataframe thead th {\n",
              "        text-align: right;\n",
              "    }\n",
              "</style>\n",
              "<table border=\"1\" class=\"dataframe\">\n",
              "  <thead>\n",
              "    <tr style=\"text-align: right;\">\n",
              "      <th></th>\n",
              "      <th>longitude</th>\n",
              "      <th>latitude</th>\n",
              "      <th>housing_median_age</th>\n",
              "      <th>total_rooms</th>\n",
              "      <th>total_bedrooms</th>\n",
              "      <th>population</th>\n",
              "      <th>households</th>\n",
              "      <th>median_income</th>\n",
              "      <th>median_house_value</th>\n",
              "    </tr>\n",
              "  </thead>\n",
              "  <tbody>\n",
              "    <tr>\n",
              "      <th>0</th>\n",
              "      <td>-114.31</td>\n",
              "      <td>34.19</td>\n",
              "      <td>15.0</td>\n",
              "      <td>5612.0</td>\n",
              "      <td>1283.0</td>\n",
              "      <td>1015.0</td>\n",
              "      <td>472.0</td>\n",
              "      <td>1.4936</td>\n",
              "      <td>66900.0</td>\n",
              "    </tr>\n",
              "    <tr>\n",
              "      <th>1</th>\n",
              "      <td>-114.47</td>\n",
              "      <td>34.40</td>\n",
              "      <td>19.0</td>\n",
              "      <td>7650.0</td>\n",
              "      <td>1901.0</td>\n",
              "      <td>1129.0</td>\n",
              "      <td>463.0</td>\n",
              "      <td>1.8200</td>\n",
              "      <td>80100.0</td>\n",
              "    </tr>\n",
              "    <tr>\n",
              "      <th>2</th>\n",
              "      <td>-114.56</td>\n",
              "      <td>33.69</td>\n",
              "      <td>17.0</td>\n",
              "      <td>720.0</td>\n",
              "      <td>174.0</td>\n",
              "      <td>333.0</td>\n",
              "      <td>117.0</td>\n",
              "      <td>1.6509</td>\n",
              "      <td>85700.0</td>\n",
              "    </tr>\n",
              "    <tr>\n",
              "      <th>3</th>\n",
              "      <td>-114.57</td>\n",
              "      <td>33.64</td>\n",
              "      <td>14.0</td>\n",
              "      <td>1501.0</td>\n",
              "      <td>337.0</td>\n",
              "      <td>515.0</td>\n",
              "      <td>226.0</td>\n",
              "      <td>3.1917</td>\n",
              "      <td>73400.0</td>\n",
              "    </tr>\n",
              "    <tr>\n",
              "      <th>4</th>\n",
              "      <td>-114.57</td>\n",
              "      <td>33.57</td>\n",
              "      <td>20.0</td>\n",
              "      <td>1454.0</td>\n",
              "      <td>326.0</td>\n",
              "      <td>624.0</td>\n",
              "      <td>262.0</td>\n",
              "      <td>1.9250</td>\n",
              "      <td>65500.0</td>\n",
              "    </tr>\n",
              "  </tbody>\n",
              "</table>\n",
              "</div>\n",
              "      <button class=\"colab-df-convert\" onclick=\"convertToInteractive('df-e83f7cd6-439e-427d-b5ea-de0f87dafb1d')\"\n",
              "              title=\"Convert this dataframe to an interactive table.\"\n",
              "              style=\"display:none;\">\n",
              "        \n",
              "  <svg xmlns=\"http://www.w3.org/2000/svg\" height=\"24px\"viewBox=\"0 0 24 24\"\n",
              "       width=\"24px\">\n",
              "    <path d=\"M0 0h24v24H0V0z\" fill=\"none\"/>\n",
              "    <path d=\"M18.56 5.44l.94 2.06.94-2.06 2.06-.94-2.06-.94-.94-2.06-.94 2.06-2.06.94zm-11 1L8.5 8.5l.94-2.06 2.06-.94-2.06-.94L8.5 2.5l-.94 2.06-2.06.94zm10 10l.94 2.06.94-2.06 2.06-.94-2.06-.94-.94-2.06-.94 2.06-2.06.94z\"/><path d=\"M17.41 7.96l-1.37-1.37c-.4-.4-.92-.59-1.43-.59-.52 0-1.04.2-1.43.59L10.3 9.45l-7.72 7.72c-.78.78-.78 2.05 0 2.83L4 21.41c.39.39.9.59 1.41.59.51 0 1.02-.2 1.41-.59l7.78-7.78 2.81-2.81c.8-.78.8-2.07 0-2.86zM5.41 20L4 18.59l7.72-7.72 1.47 1.35L5.41 20z\"/>\n",
              "  </svg>\n",
              "      </button>\n",
              "      \n",
              "  <style>\n",
              "    .colab-df-container {\n",
              "      display:flex;\n",
              "      flex-wrap:wrap;\n",
              "      gap: 12px;\n",
              "    }\n",
              "\n",
              "    .colab-df-convert {\n",
              "      background-color: #E8F0FE;\n",
              "      border: none;\n",
              "      border-radius: 50%;\n",
              "      cursor: pointer;\n",
              "      display: none;\n",
              "      fill: #1967D2;\n",
              "      height: 32px;\n",
              "      padding: 0 0 0 0;\n",
              "      width: 32px;\n",
              "    }\n",
              "\n",
              "    .colab-df-convert:hover {\n",
              "      background-color: #E2EBFA;\n",
              "      box-shadow: 0px 1px 2px rgba(60, 64, 67, 0.3), 0px 1px 3px 1px rgba(60, 64, 67, 0.15);\n",
              "      fill: #174EA6;\n",
              "    }\n",
              "\n",
              "    [theme=dark] .colab-df-convert {\n",
              "      background-color: #3B4455;\n",
              "      fill: #D2E3FC;\n",
              "    }\n",
              "\n",
              "    [theme=dark] .colab-df-convert:hover {\n",
              "      background-color: #434B5C;\n",
              "      box-shadow: 0px 1px 3px 1px rgba(0, 0, 0, 0.15);\n",
              "      filter: drop-shadow(0px 1px 2px rgba(0, 0, 0, 0.3));\n",
              "      fill: #FFFFFF;\n",
              "    }\n",
              "  </style>\n",
              "\n",
              "      <script>\n",
              "        const buttonEl =\n",
              "          document.querySelector('#df-e83f7cd6-439e-427d-b5ea-de0f87dafb1d button.colab-df-convert');\n",
              "        buttonEl.style.display =\n",
              "          google.colab.kernel.accessAllowed ? 'block' : 'none';\n",
              "\n",
              "        async function convertToInteractive(key) {\n",
              "          const element = document.querySelector('#df-e83f7cd6-439e-427d-b5ea-de0f87dafb1d');\n",
              "          const dataTable =\n",
              "            await google.colab.kernel.invokeFunction('convertToInteractive',\n",
              "                                                     [key], {});\n",
              "          if (!dataTable) return;\n",
              "\n",
              "          const docLinkHtml = 'Like what you see? Visit the ' +\n",
              "            '<a target=\"_blank\" href=https://colab.research.google.com/notebooks/data_table.ipynb>data table notebook</a>'\n",
              "            + ' to learn more about interactive tables.';\n",
              "          element.innerHTML = '';\n",
              "          dataTable['output_type'] = 'display_data';\n",
              "          await google.colab.output.renderOutput(dataTable, element);\n",
              "          const docLink = document.createElement('div');\n",
              "          docLink.innerHTML = docLinkHtml;\n",
              "          element.appendChild(docLink);\n",
              "        }\n",
              "      </script>\n",
              "    </div>\n",
              "  </div>\n",
              "  "
            ]
          },
          "metadata": {},
          "execution_count": 4
        }
      ]
    },
    {
      "cell_type": "code",
      "metadata": {
        "id": "PTEvjnfTyVmS",
        "colab": {
          "base_uri": "https://localhost:8080/"
        },
        "outputId": "3fe1da1c-c883-473f-cc4a-9b9c3aadf00f"
      },
      "source": [
        "# here's another cool way to get a lot of this info AND MORE\n",
        "df.info() # gives you missing values report too - this is nice complete data\n",
        "\n",
        "# data types, shape, missing values per columm.... pandas rocks..."
      ],
      "execution_count": null,
      "outputs": [
        {
          "output_type": "stream",
          "name": "stdout",
          "text": [
            "<class 'pandas.core.frame.DataFrame'>\n",
            "RangeIndex: 17000 entries, 0 to 16999\n",
            "Data columns (total 9 columns):\n",
            " #   Column              Non-Null Count  Dtype  \n",
            "---  ------              --------------  -----  \n",
            " 0   longitude           17000 non-null  float64\n",
            " 1   latitude            17000 non-null  float64\n",
            " 2   housing_median_age  17000 non-null  float64\n",
            " 3   total_rooms         17000 non-null  float64\n",
            " 4   total_bedrooms      17000 non-null  float64\n",
            " 5   population          17000 non-null  float64\n",
            " 6   households          17000 non-null  float64\n",
            " 7   median_income       17000 non-null  float64\n",
            " 8   median_house_value  17000 non-null  float64\n",
            "dtypes: float64(9)\n",
            "memory usage: 1.2 MB\n"
          ]
        }
      ]
    },
    {
      "cell_type": "markdown",
      "metadata": {
        "id": "hRSBaBBhs3og"
      },
      "source": [
        "## Data splitting\n",
        "Subset your data into X features and Y target variable for modeling. Convert X and Y to numpy arrays. Then use train_test_split for data splitting (80/20 is very common); don't forget random seed and shuffle."
      ]
    },
    {
      "cell_type": "code",
      "metadata": {
        "id": "lzkycmVc4zvA",
        "colab": {
          "base_uri": "https://localhost:8080/"
        },
        "outputId": "3b6b6860-d4ab-428f-cb2b-7bd9d9b548ae"
      },
      "source": [
        "# one extra step here - we are making up our own problem.\n",
        "# we want to predict if a house price is greater than the median\n",
        "# so i will use a numpy.where() statement to do this\n",
        "df['median_house_value'] = np.where(df['median_house_value'] > df['median_house_value'].median(),\n",
        "                      1, # if true\n",
        "                      0) # if false\n",
        "\n",
        "# check your work - looks good\n",
        "df['median_house_value'].head(n=10)"
      ],
      "execution_count": null,
      "outputs": [
        {
          "output_type": "execute_result",
          "data": {
            "text/plain": [
              "0    0\n",
              "1    0\n",
              "2    0\n",
              "3    0\n",
              "4    0\n",
              "5    0\n",
              "6    0\n",
              "7    0\n",
              "8    0\n",
              "9    0\n",
              "Name: median_house_value, dtype: int64"
            ]
          },
          "metadata": {},
          "execution_count": 6
        }
      ]
    },
    {
      "cell_type": "code",
      "metadata": {
        "id": "K3TFxlOdt1dH",
        "colab": {
          "base_uri": "https://localhost:8080/"
        },
        "outputId": "1b7408ec-961b-4a9b-dcab-190ff65f6b0a"
      },
      "source": [
        "# the target variable is y\n",
        "# we know that this is 'median_house_value'\n",
        "y = df['median_house_value']\n",
        "print(y.shape) # a single column with 17000 rows"
      ],
      "execution_count": null,
      "outputs": [
        {
          "output_type": "stream",
          "name": "stdout",
          "text": [
            "(17000,)\n"
          ]
        }
      ]
    },
    {
      "cell_type": "code",
      "metadata": {
        "id": "D_9wf4FFyqr6",
        "colab": {
          "base_uri": "https://localhost:8080/"
        },
        "outputId": "c7c42e7c-eea2-4b98-d9f6-63f22b6f29dd"
      },
      "source": [
        "# everything else is X\n",
        "# so just drop 'median_house_value' and you are done\n",
        "X = df.drop('median_house_value', axis=1)\n",
        "print(X.shape) # note that we have gone from 9 to 8 columns, this is good! 17000 rows."
      ],
      "execution_count": null,
      "outputs": [
        {
          "output_type": "stream",
          "name": "stdout",
          "text": [
            "(17000, 8)\n"
          ]
        }
      ]
    },
    {
      "cell_type": "code",
      "metadata": {
        "id": "5oPRE8wdzAHm"
      },
      "source": [
        "# now, split the data in ONE LINE OF CODE\n",
        "# notice how we are assigning four different variables at once\n",
        "# this makes it really clean\n",
        "\n",
        "# be careful of capital vs. lowercase X and Y, you might get an error...\n",
        "# notice the 80/20 split we perform\n",
        "\n",
        "X_train, X_test, y_train, y_test = train_test_split(X, y,\n",
        "                                                    test_size = 0.2,\n",
        "                                                    shuffle = True,\n",
        "                                                    random_state = 42)"
      ],
      "execution_count": null,
      "outputs": []
    },
    {
      "cell_type": "code",
      "metadata": {
        "id": "Oov4jzsfzeaz",
        "colab": {
          "base_uri": "https://localhost:8080/"
        },
        "outputId": "bc2bad74-cf20-4729-e441-46b2ee4ea202"
      },
      "source": [
        "# check your work - does the shape match what you think it should be?\n",
        "print(X_train.shape, X_test.shape, y_train.shape, y_test.shape)"
      ],
      "execution_count": null,
      "outputs": [
        {
          "output_type": "stream",
          "name": "stdout",
          "text": [
            "(13600, 8) (3400, 8) (13600,) (3400,)\n"
          ]
        }
      ]
    },
    {
      "cell_type": "markdown",
      "metadata": {
        "id": "E5vFxGifuPzF"
      },
      "source": [
        "## Min/Max Scaling\n",
        "This will ensure all of your X data is between 0 (min) and 1 (max). You will use fit_transform() on the train data first, then fit on the test data. If you don't do this step after splitting, you will have data leakage.\n",
        "\n",
        "Only scale the X data, not the Y data!\n",
        "\n",
        "Do yourself a favor and just overwrite X_train and X_test when standardizing, as I do below. Min/max scaling requires that the data are numpy arrays and all numeric data.\n",
        "\n",
        "\n",
        "**Like this example:**\n",
        "```\n",
        "import numpy as np\n",
        "from sklearn.preprocessing import MinMaxScaler\n",
        "\n",
        "scaler = MinMaxScaler()\n",
        "X_train = scaler.fit_transform(X_train)\n",
        "X_test = scaler.transform(X_test)\n",
        "```\n"
      ]
    },
    {
      "cell_type": "code",
      "metadata": {
        "id": "D9KyPXdiujPv"
      },
      "source": [
        "# you probably have already imported the MinMaxScale at the top of your script\n",
        "# the scaler function converts it to a numpy array, which destroys the column names\n",
        "scaler = MinMaxScaler()\n",
        "X_train = scaler.fit_transform(X_train)\n",
        "X_test = scaler.transform(X_test)"
      ],
      "execution_count": null,
      "outputs": []
    },
    {
      "cell_type": "code",
      "metadata": {
        "id": "-4vlQCG01S3E",
        "colab": {
          "base_uri": "https://localhost:8080/",
          "height": 300
        },
        "outputId": "f17a441a-3225-4642-f18e-a443c8ffc1a0"
      },
      "source": [
        "# this is optional - just to check your work\n",
        "# if you wanted to run summary stats on these to check the range,\n",
        "# you would need to convert to a pandas dataframe.\n",
        "tmp = pd.DataFrame(X_train)\n",
        "tmp.describe() # notice how all the max values are 1, all min values are 0."
      ],
      "execution_count": null,
      "outputs": [
        {
          "output_type": "execute_result",
          "data": {
            "text/plain": [
              "                  0             1             2             3             4  \\\n",
              "count  13600.000000  13600.000000  13600.000000  13600.000000  13600.000000   \n",
              "mean       0.482551      0.327069      0.542284      0.069519      0.083567   \n",
              "std        0.203859      0.226774      0.247018      0.057161      0.065365   \n",
              "min        0.000000      0.000000      0.000000      0.000000      0.000000   \n",
              "25%        0.255341      0.147715      0.333333      0.038381      0.045779   \n",
              "50%        0.592065      0.181722      0.549020      0.055964      0.067349   \n",
              "75%        0.640895      0.549416      0.705882      0.083122      0.100403   \n",
              "max        1.000000      1.000000      1.000000      1.000000      1.000000   \n",
              "\n",
              "                  5             6             7  \n",
              "count  13600.000000  13600.000000  13600.000000  \n",
              "mean       0.040048      0.082229      0.232760  \n",
              "std        0.032523      0.063121      0.131696  \n",
              "min        0.000000      0.000000      0.000000  \n",
              "25%        0.022002      0.046045      0.142507  \n",
              "50%        0.032792      0.067259      0.209383  \n",
              "75%        0.048292      0.099326      0.293106  \n",
              "max        1.000000      1.000000      1.000000  "
            ],
            "text/html": [
              "\n",
              "  <div id=\"df-f8de7ac7-c497-4488-a8d4-c44df501fd37\">\n",
              "    <div class=\"colab-df-container\">\n",
              "      <div>\n",
              "<style scoped>\n",
              "    .dataframe tbody tr th:only-of-type {\n",
              "        vertical-align: middle;\n",
              "    }\n",
              "\n",
              "    .dataframe tbody tr th {\n",
              "        vertical-align: top;\n",
              "    }\n",
              "\n",
              "    .dataframe thead th {\n",
              "        text-align: right;\n",
              "    }\n",
              "</style>\n",
              "<table border=\"1\" class=\"dataframe\">\n",
              "  <thead>\n",
              "    <tr style=\"text-align: right;\">\n",
              "      <th></th>\n",
              "      <th>0</th>\n",
              "      <th>1</th>\n",
              "      <th>2</th>\n",
              "      <th>3</th>\n",
              "      <th>4</th>\n",
              "      <th>5</th>\n",
              "      <th>6</th>\n",
              "      <th>7</th>\n",
              "    </tr>\n",
              "  </thead>\n",
              "  <tbody>\n",
              "    <tr>\n",
              "      <th>count</th>\n",
              "      <td>13600.000000</td>\n",
              "      <td>13600.000000</td>\n",
              "      <td>13600.000000</td>\n",
              "      <td>13600.000000</td>\n",
              "      <td>13600.000000</td>\n",
              "      <td>13600.000000</td>\n",
              "      <td>13600.000000</td>\n",
              "      <td>13600.000000</td>\n",
              "    </tr>\n",
              "    <tr>\n",
              "      <th>mean</th>\n",
              "      <td>0.482551</td>\n",
              "      <td>0.327069</td>\n",
              "      <td>0.542284</td>\n",
              "      <td>0.069519</td>\n",
              "      <td>0.083567</td>\n",
              "      <td>0.040048</td>\n",
              "      <td>0.082229</td>\n",
              "      <td>0.232760</td>\n",
              "    </tr>\n",
              "    <tr>\n",
              "      <th>std</th>\n",
              "      <td>0.203859</td>\n",
              "      <td>0.226774</td>\n",
              "      <td>0.247018</td>\n",
              "      <td>0.057161</td>\n",
              "      <td>0.065365</td>\n",
              "      <td>0.032523</td>\n",
              "      <td>0.063121</td>\n",
              "      <td>0.131696</td>\n",
              "    </tr>\n",
              "    <tr>\n",
              "      <th>min</th>\n",
              "      <td>0.000000</td>\n",
              "      <td>0.000000</td>\n",
              "      <td>0.000000</td>\n",
              "      <td>0.000000</td>\n",
              "      <td>0.000000</td>\n",
              "      <td>0.000000</td>\n",
              "      <td>0.000000</td>\n",
              "      <td>0.000000</td>\n",
              "    </tr>\n",
              "    <tr>\n",
              "      <th>25%</th>\n",
              "      <td>0.255341</td>\n",
              "      <td>0.147715</td>\n",
              "      <td>0.333333</td>\n",
              "      <td>0.038381</td>\n",
              "      <td>0.045779</td>\n",
              "      <td>0.022002</td>\n",
              "      <td>0.046045</td>\n",
              "      <td>0.142507</td>\n",
              "    </tr>\n",
              "    <tr>\n",
              "      <th>50%</th>\n",
              "      <td>0.592065</td>\n",
              "      <td>0.181722</td>\n",
              "      <td>0.549020</td>\n",
              "      <td>0.055964</td>\n",
              "      <td>0.067349</td>\n",
              "      <td>0.032792</td>\n",
              "      <td>0.067259</td>\n",
              "      <td>0.209383</td>\n",
              "    </tr>\n",
              "    <tr>\n",
              "      <th>75%</th>\n",
              "      <td>0.640895</td>\n",
              "      <td>0.549416</td>\n",
              "      <td>0.705882</td>\n",
              "      <td>0.083122</td>\n",
              "      <td>0.100403</td>\n",
              "      <td>0.048292</td>\n",
              "      <td>0.099326</td>\n",
              "      <td>0.293106</td>\n",
              "    </tr>\n",
              "    <tr>\n",
              "      <th>max</th>\n",
              "      <td>1.000000</td>\n",
              "      <td>1.000000</td>\n",
              "      <td>1.000000</td>\n",
              "      <td>1.000000</td>\n",
              "      <td>1.000000</td>\n",
              "      <td>1.000000</td>\n",
              "      <td>1.000000</td>\n",
              "      <td>1.000000</td>\n",
              "    </tr>\n",
              "  </tbody>\n",
              "</table>\n",
              "</div>\n",
              "      <button class=\"colab-df-convert\" onclick=\"convertToInteractive('df-f8de7ac7-c497-4488-a8d4-c44df501fd37')\"\n",
              "              title=\"Convert this dataframe to an interactive table.\"\n",
              "              style=\"display:none;\">\n",
              "        \n",
              "  <svg xmlns=\"http://www.w3.org/2000/svg\" height=\"24px\"viewBox=\"0 0 24 24\"\n",
              "       width=\"24px\">\n",
              "    <path d=\"M0 0h24v24H0V0z\" fill=\"none\"/>\n",
              "    <path d=\"M18.56 5.44l.94 2.06.94-2.06 2.06-.94-2.06-.94-.94-2.06-.94 2.06-2.06.94zm-11 1L8.5 8.5l.94-2.06 2.06-.94-2.06-.94L8.5 2.5l-.94 2.06-2.06.94zm10 10l.94 2.06.94-2.06 2.06-.94-2.06-.94-.94-2.06-.94 2.06-2.06.94z\"/><path d=\"M17.41 7.96l-1.37-1.37c-.4-.4-.92-.59-1.43-.59-.52 0-1.04.2-1.43.59L10.3 9.45l-7.72 7.72c-.78.78-.78 2.05 0 2.83L4 21.41c.39.39.9.59 1.41.59.51 0 1.02-.2 1.41-.59l7.78-7.78 2.81-2.81c.8-.78.8-2.07 0-2.86zM5.41 20L4 18.59l7.72-7.72 1.47 1.35L5.41 20z\"/>\n",
              "  </svg>\n",
              "      </button>\n",
              "      \n",
              "  <style>\n",
              "    .colab-df-container {\n",
              "      display:flex;\n",
              "      flex-wrap:wrap;\n",
              "      gap: 12px;\n",
              "    }\n",
              "\n",
              "    .colab-df-convert {\n",
              "      background-color: #E8F0FE;\n",
              "      border: none;\n",
              "      border-radius: 50%;\n",
              "      cursor: pointer;\n",
              "      display: none;\n",
              "      fill: #1967D2;\n",
              "      height: 32px;\n",
              "      padding: 0 0 0 0;\n",
              "      width: 32px;\n",
              "    }\n",
              "\n",
              "    .colab-df-convert:hover {\n",
              "      background-color: #E2EBFA;\n",
              "      box-shadow: 0px 1px 2px rgba(60, 64, 67, 0.3), 0px 1px 3px 1px rgba(60, 64, 67, 0.15);\n",
              "      fill: #174EA6;\n",
              "    }\n",
              "\n",
              "    [theme=dark] .colab-df-convert {\n",
              "      background-color: #3B4455;\n",
              "      fill: #D2E3FC;\n",
              "    }\n",
              "\n",
              "    [theme=dark] .colab-df-convert:hover {\n",
              "      background-color: #434B5C;\n",
              "      box-shadow: 0px 1px 3px 1px rgba(0, 0, 0, 0.15);\n",
              "      filter: drop-shadow(0px 1px 2px rgba(0, 0, 0, 0.3));\n",
              "      fill: #FFFFFF;\n",
              "    }\n",
              "  </style>\n",
              "\n",
              "      <script>\n",
              "        const buttonEl =\n",
              "          document.querySelector('#df-f8de7ac7-c497-4488-a8d4-c44df501fd37 button.colab-df-convert');\n",
              "        buttonEl.style.display =\n",
              "          google.colab.kernel.accessAllowed ? 'block' : 'none';\n",
              "\n",
              "        async function convertToInteractive(key) {\n",
              "          const element = document.querySelector('#df-f8de7ac7-c497-4488-a8d4-c44df501fd37');\n",
              "          const dataTable =\n",
              "            await google.colab.kernel.invokeFunction('convertToInteractive',\n",
              "                                                     [key], {});\n",
              "          if (!dataTable) return;\n",
              "\n",
              "          const docLinkHtml = 'Like what you see? Visit the ' +\n",
              "            '<a target=\"_blank\" href=https://colab.research.google.com/notebooks/data_table.ipynb>data table notebook</a>'\n",
              "            + ' to learn more about interactive tables.';\n",
              "          element.innerHTML = '';\n",
              "          dataTable['output_type'] = 'display_data';\n",
              "          await google.colab.output.renderOutput(dataTable, element);\n",
              "          const docLink = document.createElement('div');\n",
              "          docLink.innerHTML = docLinkHtml;\n",
              "          element.appendChild(docLink);\n",
              "        }\n",
              "      </script>\n",
              "    </div>\n",
              "  </div>\n",
              "  "
            ]
          },
          "metadata": {},
          "execution_count": 12
        }
      ]
    },
    {
      "cell_type": "markdown",
      "metadata": {
        "id": "SjiD7wWVtT5X"
      },
      "source": [
        "## Fit The Model\n",
        "Fit the model and make new variables to save your train and test predictions. Make sure you are using the appropriate regression or classification model."
      ]
    },
    {
      "cell_type": "code",
      "metadata": {
        "id": "g5_x7INZt02l"
      },
      "source": [
        "# make a variable to store the general model\n",
        "LR = LogisticRegression() # use logistic for a classification problem\n",
        "# fit the model - one line of code\n",
        "LR = LR.fit(X_train, y_train) # always going to be (X_train, y_train)"
      ],
      "execution_count": null,
      "outputs": []
    },
    {
      "cell_type": "code",
      "metadata": {
        "id": "KDWWnOoM12Qu"
      },
      "source": [
        "# store the predictions\n",
        "train_preds = LR.predict(X_train) # same shape as Y_train\n",
        "test_preds = LR.predict(X_test)  # same shape as Y_test"
      ],
      "execution_count": null,
      "outputs": []
    },
    {
      "cell_type": "code",
      "source": [
        "# see how they are all 0s and 1s?\n",
        "train_preds"
      ],
      "metadata": {
        "colab": {
          "base_uri": "https://localhost:8080/"
        },
        "id": "LbdH4t9P9t8k",
        "outputId": "45ef811e-4851-469f-8aa5-b2a7811dd300"
      },
      "execution_count": null,
      "outputs": [
        {
          "output_type": "execute_result",
          "data": {
            "text/plain": [
              "array([1, 1, 1, ..., 0, 0, 1])"
            ]
          },
          "metadata": {},
          "execution_count": 15
        }
      ]
    },
    {
      "cell_type": "code",
      "source": [
        "# what if you wanted to raw predicted probabilites?\n",
        "LR.predict_proba(X_train) # like this!"
      ],
      "metadata": {
        "colab": {
          "base_uri": "https://localhost:8080/"
        },
        "id": "XS7usvhG9x7X",
        "outputId": "6bb544c4-56e5-436f-bfb5-21c58f7ac273"
      },
      "execution_count": null,
      "outputs": [
        {
          "output_type": "execute_result",
          "data": {
            "text/plain": [
              "array([[0.00891757, 0.99108243],\n",
              "       [0.04251066, 0.95748934],\n",
              "       [0.18231322, 0.81768678],\n",
              "       ...,\n",
              "       [0.6137507 , 0.3862493 ],\n",
              "       [0.6003873 , 0.3996127 ],\n",
              "       [0.47960173, 0.52039827]])"
            ]
          },
          "metadata": {},
          "execution_count": 16
        }
      ]
    },
    {
      "cell_type": "markdown",
      "metadata": {
        "id": "vRsCK_5Jtb0Z"
      },
      "source": [
        "## Evaluate the Model\n",
        "Look at the appropriate error metrics depending on the problem you are solving.\n",
        "\n",
        "For a regression problem, look at the R2, MAE and MSE; then make a scatterplot of actual vs. predicted values with nice labels and titles.\n",
        "\n",
        "For a classification problem, create the classification report (gives a confusion matrix and useful metrics in one line of code)."
      ]
    },
    {
      "cell_type": "code",
      "metadata": {
        "id": "YB8pPfM75h2T",
        "colab": {
          "base_uri": "https://localhost:8080/"
        },
        "outputId": "8870d682-92fb-46f7-b5cc-2ef862a5f6a9"
      },
      "source": [
        "# this is a classification problem, so we have other ways of\n",
        "# evaluating our model than a regression problem\n",
        "\n",
        "# train results\n",
        "trainResults = classification_report(y_train, train_preds) # (actual, predicted)\n",
        "print(trainResults)"
      ],
      "execution_count": null,
      "outputs": [
        {
          "output_type": "stream",
          "name": "stdout",
          "text": [
            "              precision    recall  f1-score   support\n",
            "\n",
            "           0       0.83      0.83      0.83      6852\n",
            "           1       0.83      0.83      0.83      6748\n",
            "\n",
            "    accuracy                           0.83     13600\n",
            "   macro avg       0.83      0.83      0.83     13600\n",
            "weighted avg       0.83      0.83      0.83     13600\n",
            "\n"
          ]
        }
      ]
    },
    {
      "cell_type": "code",
      "metadata": {
        "id": "RMgWf6u6DB2X",
        "colab": {
          "base_uri": "https://localhost:8080/"
        },
        "outputId": "9eb54362-3493-4ff1-d942-9aefb38fbb20"
      },
      "source": [
        "# train confusion matrix\n",
        "confusion_matrix(y_train, train_preds)\n",
        "\n",
        "# top left is TN\n",
        "# bottom left is FN\n",
        "# top right is FP\n",
        "# bottom right is TP"
      ],
      "execution_count": null,
      "outputs": [
        {
          "output_type": "execute_result",
          "data": {
            "text/plain": [
              "array([[5670, 1182],\n",
              "       [1171, 5577]])"
            ]
          },
          "metadata": {},
          "execution_count": 18
        }
      ]
    },
    {
      "cell_type": "code",
      "metadata": {
        "id": "Pz0w11IiCjWz",
        "colab": {
          "base_uri": "https://localhost:8080/"
        },
        "outputId": "f5eac6c6-125e-45ea-98b6-3e02ce014778"
      },
      "source": [
        "# here are tp, tn, fp, fn\n",
        "tn, fp, fn, tp = confusion_matrix(y_train, train_preds).ravel()\n",
        "print(\"TP:\", tp)\n",
        "print(\"TN:\", tn)\n",
        "print(\"FP:\", fp)\n",
        "print(\"FN:\", fn)"
      ],
      "execution_count": null,
      "outputs": [
        {
          "output_type": "stream",
          "name": "stdout",
          "text": [
            "TP: 5577\n",
            "TN: 5670\n",
            "FP: 1182\n",
            "FN: 1171\n"
          ]
        }
      ]
    },
    {
      "cell_type": "code",
      "metadata": {
        "id": "hpct_Gnp54mK",
        "colab": {
          "base_uri": "https://localhost:8080/"
        },
        "outputId": "4adb6875-72a4-488c-b573-3d7b6a168788"
      },
      "source": [
        "# test results\n",
        "testResults = classification_report(y_test, test_preds)\n",
        "# don't forget to use 'print' otherwise it looks goofy\n",
        "print(testResults)"
      ],
      "execution_count": null,
      "outputs": [
        {
          "output_type": "stream",
          "name": "stdout",
          "text": [
            "              precision    recall  f1-score   support\n",
            "\n",
            "           0       0.81      0.83      0.82      1656\n",
            "           1       0.84      0.82      0.83      1744\n",
            "\n",
            "    accuracy                           0.82      3400\n",
            "   macro avg       0.82      0.82      0.82      3400\n",
            "weighted avg       0.82      0.82      0.82      3400\n",
            "\n"
          ]
        }
      ]
    },
    {
      "cell_type": "code",
      "metadata": {
        "id": "iuanuEaKC6qW",
        "colab": {
          "base_uri": "https://localhost:8080/"
        },
        "outputId": "5b2f95ea-77a9-4c3a-914b-33641fad0f56"
      },
      "source": [
        "# test confusion matrix\n",
        "confusion_matrix(y_test, test_preds)\n",
        "\n",
        "# top left is TN\n",
        "# bottom left is FN\n",
        "# top right is FP\n",
        "# bottom right is TP"
      ],
      "execution_count": null,
      "outputs": [
        {
          "output_type": "execute_result",
          "data": {
            "text/plain": [
              "array([[1377,  279],\n",
              "       [ 319, 1425]])"
            ]
          },
          "metadata": {},
          "execution_count": 21
        }
      ]
    },
    {
      "cell_type": "code",
      "source": [
        "1377/(1377+279)"
      ],
      "metadata": {
        "colab": {
          "base_uri": "https://localhost:8080/"
        },
        "id": "5fkZKpQfQ0Xl",
        "outputId": "d3400fb3-0269-416b-9d5a-dd43f800788d"
      },
      "execution_count": null,
      "outputs": [
        {
          "output_type": "execute_result",
          "data": {
            "text/plain": [
              "0.8315217391304348"
            ]
          },
          "metadata": {},
          "execution_count": 23
        }
      ]
    },
    {
      "cell_type": "code",
      "metadata": {
        "id": "tM8x1xzNC1zL",
        "colab": {
          "base_uri": "https://localhost:8080/"
        },
        "outputId": "f4a1e8c2-570a-4fb2-e8e5-826384df659e"
      },
      "source": [
        "# here are tp, tn, fp, fn\n",
        "tn, fp, fn, tp = confusion_matrix(y_test, test_preds).ravel()\n",
        "print(\"TP:\", tp)\n",
        "print(\"TN:\", tn)\n",
        "print(\"FP:\", fp)\n",
        "print(\"FN:\", fn)"
      ],
      "execution_count": null,
      "outputs": [
        {
          "output_type": "stream",
          "name": "stdout",
          "text": [
            "TP: 1425\n",
            "TN: 1377\n",
            "FP: 279\n",
            "FN: 319\n"
          ]
        }
      ]
    },
    {
      "cell_type": "markdown",
      "metadata": {
        "id": "h-4AbBzY3wSJ"
      },
      "source": [
        "# Done!\n",
        "You have just completed a very simple ML framework for classification modeling. Even though you used a simple logistic regression, you still got great results.\n",
        "\n",
        "Later on, you will expand on these topics and start fitting multiple models, and may start tweaking them ('hyperparameter tuning') to get even better peformance. Sit tight!"
      ]
    }
  ]
}