{
  "nbformat": 4,
  "nbformat_minor": 0,
  "metadata": {
    "colab": {
      "provenance": [],
      "include_colab_link": true
    },
    "kernelspec": {
      "name": "python3",
      "display_name": "Python 3"
    }
  },
  "cells": [
    {
      "cell_type": "markdown",
      "metadata": {
        "id": "view-in-github",
        "colab_type": "text"
      },
      "source": [
        "<a href=\"https://colab.research.google.com/github/AsifKarimShaik/AsifKarimShaik/blob/main/1_DTC_CAHousing_(1).ipynb\" target=\"_parent\"><img src=\"https://colab.research.google.com/assets/colab-badge.svg\" alt=\"Open In Colab\"/></a>"
      ]
    },
    {
      "cell_type": "markdown",
      "metadata": {
        "id": "zehws9Rhsk2m"
      },
      "source": [
        "# DTC with CA Housing\n",
        "------------------------------\n",
        "**Dr. Dave Wanik - University of Connecticut**\n",
        "\n",
        "This is a bare-bones script to get you up and running. For a given dataset, you should be able to code relevant content in the cells below.\n",
        "\n",
        "Literally... everything is the same until fitting the model... it's not that hard!"
      ]
    },
    {
      "cell_type": "markdown",
      "metadata": {
        "id": "xhEQ0UwesvAB"
      },
      "source": [
        "## Getting started\n",
        "Import modules, mount Drive, read in the data, check data types and missing values. You may also do some light EDA prior to modeling.\n",
        "\n",
        "Notice how we are using the same functions over and over again... it really is like following a recipe.\n"
      ]
    },
    {
      "cell_type": "code",
      "metadata": {
        "id": "QqeDxYgSs2OG"
      },
      "source": [
        "# import modules we need for EDA and wrangling\n",
        "import pandas as pd\n",
        "import numpy as np\n",
        "import matplotlib.pyplot as plt\n",
        "import seaborn as sns\n",
        "\n",
        "# these functions are useful for splitting and normalization\n",
        "from sklearn.preprocessing import  MinMaxScaler\n",
        "from sklearn.model_selection import train_test_split\n",
        "\n",
        "# import other functions we'll need for classification modeling\n",
        "from sklearn.linear_model import LogisticRegression\n",
        "from sklearn.tree import DecisionTreeClassifier\n",
        "\n",
        "# classification error metrics\n",
        "from sklearn.metrics import classification_report\n",
        "from sklearn.metrics import confusion_matrix"
      ],
      "execution_count": null,
      "outputs": []
    },
    {
      "cell_type": "code",
      "metadata": {
        "id": "W8O70GwnxfXY"
      },
      "source": [
        "# # mount your google drive\n",
        "# from google.colab import drive\n",
        "# drive.mount('/content/drive')"
      ],
      "execution_count": null,
      "outputs": []
    },
    {
      "cell_type": "code",
      "metadata": {
        "id": "zrD3Xocnxv1c"
      },
      "source": [
        "# read in some data\n",
        "df = pd.read_csv('/content/sample_data/california_housing_train.csv')"
      ],
      "execution_count": null,
      "outputs": []
    },
    {
      "cell_type": "code",
      "metadata": {
        "id": "e7PnTKNZyHfm",
        "colab": {
          "base_uri": "https://localhost:8080/",
          "height": 588
        },
        "outputId": "a60350ed-5d4e-4492-c8df-2539ce74d4bb"
      },
      "source": [
        "# data type, shape and columns\n",
        "\n",
        "print(\"This is the shape :\\n\", df.shape, '\\n') # escape characters are fun! \\n adds a return line\n",
        "print(\"These are the column names: \\n\", df.columns, '\\n') # helps keep things nice and clean\n",
        "print(\"These are the data types: \\n\", df.dtypes)\n",
        "\n",
        "# right away you see this 'valid' column is an 'object', which means it's a string\n",
        "# AKA something you can't do math on... look at the head and see what's going on\n",
        "# in that column. ALL OTHER DATA IS NUMERIC (float64)\n",
        "# this is a good quiz question... ;)\n",
        "\n",
        "print(\"\\nThis is the head:\") # see how I can pop that \\n anywhere?\n",
        "df.head()   # also note how much stuff I have pasted in ONE CELL...\n",
        "            # now you are cooking with gas!\n",
        "\n",
        "# the head confirms to use that the valid column is some type of time/date stamp\n",
        "# we need to stop what we are doing and take care of this NOW!"
      ],
      "execution_count": null,
      "outputs": [
        {
          "output_type": "stream",
          "name": "stdout",
          "text": [
            "This is the shape :\n",
            " (17000, 9) \n",
            "\n",
            "These are the column names: \n",
            " Index(['longitude', 'latitude', 'housing_median_age', 'total_rooms',\n",
            "       'total_bedrooms', 'population', 'households', 'median_income',\n",
            "       'median_house_value'],\n",
            "      dtype='object') \n",
            "\n",
            "These are the data types: \n",
            " longitude             float64\n",
            "latitude              float64\n",
            "housing_median_age    float64\n",
            "total_rooms           float64\n",
            "total_bedrooms        float64\n",
            "population            float64\n",
            "households            float64\n",
            "median_income         float64\n",
            "median_house_value    float64\n",
            "dtype: object\n",
            "\n",
            "This is the head:\n"
          ]
        },
        {
          "output_type": "execute_result",
          "data": {
            "text/plain": [
              "   longitude  latitude  housing_median_age  total_rooms  total_bedrooms  \\\n",
              "0    -114.31     34.19                15.0       5612.0          1283.0   \n",
              "1    -114.47     34.40                19.0       7650.0          1901.0   \n",
              "2    -114.56     33.69                17.0        720.0           174.0   \n",
              "3    -114.57     33.64                14.0       1501.0           337.0   \n",
              "4    -114.57     33.57                20.0       1454.0           326.0   \n",
              "\n",
              "   population  households  median_income  median_house_value  \n",
              "0      1015.0       472.0         1.4936             66900.0  \n",
              "1      1129.0       463.0         1.8200             80100.0  \n",
              "2       333.0       117.0         1.6509             85700.0  \n",
              "3       515.0       226.0         3.1917             73400.0  \n",
              "4       624.0       262.0         1.9250             65500.0  "
            ],
            "text/html": [
              "\n",
              "  <div id=\"df-4ab9ffe1-e5fb-4ec9-86ef-659e9ae5cd0b\">\n",
              "    <div class=\"colab-df-container\">\n",
              "      <div>\n",
              "<style scoped>\n",
              "    .dataframe tbody tr th:only-of-type {\n",
              "        vertical-align: middle;\n",
              "    }\n",
              "\n",
              "    .dataframe tbody tr th {\n",
              "        vertical-align: top;\n",
              "    }\n",
              "\n",
              "    .dataframe thead th {\n",
              "        text-align: right;\n",
              "    }\n",
              "</style>\n",
              "<table border=\"1\" class=\"dataframe\">\n",
              "  <thead>\n",
              "    <tr style=\"text-align: right;\">\n",
              "      <th></th>\n",
              "      <th>longitude</th>\n",
              "      <th>latitude</th>\n",
              "      <th>housing_median_age</th>\n",
              "      <th>total_rooms</th>\n",
              "      <th>total_bedrooms</th>\n",
              "      <th>population</th>\n",
              "      <th>households</th>\n",
              "      <th>median_income</th>\n",
              "      <th>median_house_value</th>\n",
              "    </tr>\n",
              "  </thead>\n",
              "  <tbody>\n",
              "    <tr>\n",
              "      <th>0</th>\n",
              "      <td>-114.31</td>\n",
              "      <td>34.19</td>\n",
              "      <td>15.0</td>\n",
              "      <td>5612.0</td>\n",
              "      <td>1283.0</td>\n",
              "      <td>1015.0</td>\n",
              "      <td>472.0</td>\n",
              "      <td>1.4936</td>\n",
              "      <td>66900.0</td>\n",
              "    </tr>\n",
              "    <tr>\n",
              "      <th>1</th>\n",
              "      <td>-114.47</td>\n",
              "      <td>34.40</td>\n",
              "      <td>19.0</td>\n",
              "      <td>7650.0</td>\n",
              "      <td>1901.0</td>\n",
              "      <td>1129.0</td>\n",
              "      <td>463.0</td>\n",
              "      <td>1.8200</td>\n",
              "      <td>80100.0</td>\n",
              "    </tr>\n",
              "    <tr>\n",
              "      <th>2</th>\n",
              "      <td>-114.56</td>\n",
              "      <td>33.69</td>\n",
              "      <td>17.0</td>\n",
              "      <td>720.0</td>\n",
              "      <td>174.0</td>\n",
              "      <td>333.0</td>\n",
              "      <td>117.0</td>\n",
              "      <td>1.6509</td>\n",
              "      <td>85700.0</td>\n",
              "    </tr>\n",
              "    <tr>\n",
              "      <th>3</th>\n",
              "      <td>-114.57</td>\n",
              "      <td>33.64</td>\n",
              "      <td>14.0</td>\n",
              "      <td>1501.0</td>\n",
              "      <td>337.0</td>\n",
              "      <td>515.0</td>\n",
              "      <td>226.0</td>\n",
              "      <td>3.1917</td>\n",
              "      <td>73400.0</td>\n",
              "    </tr>\n",
              "    <tr>\n",
              "      <th>4</th>\n",
              "      <td>-114.57</td>\n",
              "      <td>33.57</td>\n",
              "      <td>20.0</td>\n",
              "      <td>1454.0</td>\n",
              "      <td>326.0</td>\n",
              "      <td>624.0</td>\n",
              "      <td>262.0</td>\n",
              "      <td>1.9250</td>\n",
              "      <td>65500.0</td>\n",
              "    </tr>\n",
              "  </tbody>\n",
              "</table>\n",
              "</div>\n",
              "      <button class=\"colab-df-convert\" onclick=\"convertToInteractive('df-4ab9ffe1-e5fb-4ec9-86ef-659e9ae5cd0b')\"\n",
              "              title=\"Convert this dataframe to an interactive table.\"\n",
              "              style=\"display:none;\">\n",
              "        \n",
              "  <svg xmlns=\"http://www.w3.org/2000/svg\" height=\"24px\"viewBox=\"0 0 24 24\"\n",
              "       width=\"24px\">\n",
              "    <path d=\"M0 0h24v24H0V0z\" fill=\"none\"/>\n",
              "    <path d=\"M18.56 5.44l.94 2.06.94-2.06 2.06-.94-2.06-.94-.94-2.06-.94 2.06-2.06.94zm-11 1L8.5 8.5l.94-2.06 2.06-.94-2.06-.94L8.5 2.5l-.94 2.06-2.06.94zm10 10l.94 2.06.94-2.06 2.06-.94-2.06-.94-.94-2.06-.94 2.06-2.06.94z\"/><path d=\"M17.41 7.96l-1.37-1.37c-.4-.4-.92-.59-1.43-.59-.52 0-1.04.2-1.43.59L10.3 9.45l-7.72 7.72c-.78.78-.78 2.05 0 2.83L4 21.41c.39.39.9.59 1.41.59.51 0 1.02-.2 1.41-.59l7.78-7.78 2.81-2.81c.8-.78.8-2.07 0-2.86zM5.41 20L4 18.59l7.72-7.72 1.47 1.35L5.41 20z\"/>\n",
              "  </svg>\n",
              "      </button>\n",
              "      \n",
              "  <style>\n",
              "    .colab-df-container {\n",
              "      display:flex;\n",
              "      flex-wrap:wrap;\n",
              "      gap: 12px;\n",
              "    }\n",
              "\n",
              "    .colab-df-convert {\n",
              "      background-color: #E8F0FE;\n",
              "      border: none;\n",
              "      border-radius: 50%;\n",
              "      cursor: pointer;\n",
              "      display: none;\n",
              "      fill: #1967D2;\n",
              "      height: 32px;\n",
              "      padding: 0 0 0 0;\n",
              "      width: 32px;\n",
              "    }\n",
              "\n",
              "    .colab-df-convert:hover {\n",
              "      background-color: #E2EBFA;\n",
              "      box-shadow: 0px 1px 2px rgba(60, 64, 67, 0.3), 0px 1px 3px 1px rgba(60, 64, 67, 0.15);\n",
              "      fill: #174EA6;\n",
              "    }\n",
              "\n",
              "    [theme=dark] .colab-df-convert {\n",
              "      background-color: #3B4455;\n",
              "      fill: #D2E3FC;\n",
              "    }\n",
              "\n",
              "    [theme=dark] .colab-df-convert:hover {\n",
              "      background-color: #434B5C;\n",
              "      box-shadow: 0px 1px 3px 1px rgba(0, 0, 0, 0.15);\n",
              "      filter: drop-shadow(0px 1px 2px rgba(0, 0, 0, 0.3));\n",
              "      fill: #FFFFFF;\n",
              "    }\n",
              "  </style>\n",
              "\n",
              "      <script>\n",
              "        const buttonEl =\n",
              "          document.querySelector('#df-4ab9ffe1-e5fb-4ec9-86ef-659e9ae5cd0b button.colab-df-convert');\n",
              "        buttonEl.style.display =\n",
              "          google.colab.kernel.accessAllowed ? 'block' : 'none';\n",
              "\n",
              "        async function convertToInteractive(key) {\n",
              "          const element = document.querySelector('#df-4ab9ffe1-e5fb-4ec9-86ef-659e9ae5cd0b');\n",
              "          const dataTable =\n",
              "            await google.colab.kernel.invokeFunction('convertToInteractive',\n",
              "                                                     [key], {});\n",
              "          if (!dataTable) return;\n",
              "\n",
              "          const docLinkHtml = 'Like what you see? Visit the ' +\n",
              "            '<a target=\"_blank\" href=https://colab.research.google.com/notebooks/data_table.ipynb>data table notebook</a>'\n",
              "            + ' to learn more about interactive tables.';\n",
              "          element.innerHTML = '';\n",
              "          dataTable['output_type'] = 'display_data';\n",
              "          await google.colab.output.renderOutput(dataTable, element);\n",
              "          const docLink = document.createElement('div');\n",
              "          docLink.innerHTML = docLinkHtml;\n",
              "          element.appendChild(docLink);\n",
              "        }\n",
              "      </script>\n",
              "    </div>\n",
              "  </div>\n",
              "  "
            ]
          },
          "metadata": {},
          "execution_count": 32
        }
      ]
    },
    {
      "cell_type": "code",
      "metadata": {
        "id": "PTEvjnfTyVmS",
        "colab": {
          "base_uri": "https://localhost:8080/"
        },
        "outputId": "57aacc4e-10a9-4df1-adae-49d5a81cc92d"
      },
      "source": [
        "# here's another cool way to get a lot of this info AND MORE\n",
        "df.info() # gives you missing values report too - this is nice complete data\n",
        "\n",
        "# data types, shape, missing values per columm.... pandas rocks..."
      ],
      "execution_count": null,
      "outputs": [
        {
          "output_type": "stream",
          "name": "stdout",
          "text": [
            "<class 'pandas.core.frame.DataFrame'>\n",
            "RangeIndex: 17000 entries, 0 to 16999\n",
            "Data columns (total 9 columns):\n",
            " #   Column              Non-Null Count  Dtype  \n",
            "---  ------              --------------  -----  \n",
            " 0   longitude           17000 non-null  float64\n",
            " 1   latitude            17000 non-null  float64\n",
            " 2   housing_median_age  17000 non-null  float64\n",
            " 3   total_rooms         17000 non-null  float64\n",
            " 4   total_bedrooms      17000 non-null  float64\n",
            " 5   population          17000 non-null  float64\n",
            " 6   households          17000 non-null  float64\n",
            " 7   median_income       17000 non-null  float64\n",
            " 8   median_house_value  17000 non-null  float64\n",
            "dtypes: float64(9)\n",
            "memory usage: 1.2 MB\n"
          ]
        }
      ]
    },
    {
      "cell_type": "markdown",
      "metadata": {
        "id": "hRSBaBBhs3og"
      },
      "source": [
        "## Data splitting\n",
        "Subset your data into X features and Y target variable for modeling. Convert X and Y to numpy arrays. Then use train_test_split for data splitting (80/20 is very common); don't forget random seed and shuffle."
      ]
    },
    {
      "cell_type": "code",
      "metadata": {
        "id": "jzye9exT6yk0",
        "colab": {
          "base_uri": "https://localhost:8080/"
        },
        "outputId": "ffaa1068-2634-4345-9e8b-6e8f71459cdf"
      },
      "source": [
        "# one extra step here - we are making up our own problem.\n",
        "# we want to predict if a house price is greater than the median\n",
        "# so i will use a numpy.where() statement to do this\n",
        "df['median_house_value'] = np.where(df['median_house_value'] > df['median_house_value'].median(),\n",
        "                      1, # high value houses\n",
        "                      0) # low value houses\n",
        "\n",
        "# check your work - looks good\n",
        "df['median_house_value'].head()"
      ],
      "execution_count": null,
      "outputs": [
        {
          "output_type": "execute_result",
          "data": {
            "text/plain": [
              "0    0\n",
              "1    0\n",
              "2    0\n",
              "3    0\n",
              "4    0\n",
              "Name: median_house_value, dtype: int64"
            ]
          },
          "metadata": {},
          "execution_count": 34
        }
      ]
    },
    {
      "cell_type": "code",
      "metadata": {
        "id": "K3TFxlOdt1dH",
        "colab": {
          "base_uri": "https://localhost:8080/"
        },
        "outputId": "ad84cb47-e29d-4c7c-ce78-00dc5cde6f2d"
      },
      "source": [
        "# the target variable is Y\n",
        "# we know that this is 'medv'\n",
        "Y = df['median_house_value']\n",
        "print(Y.shape) # a single column with 506 rows"
      ],
      "execution_count": null,
      "outputs": [
        {
          "output_type": "stream",
          "name": "stdout",
          "text": [
            "(17000,)\n"
          ]
        }
      ]
    },
    {
      "cell_type": "code",
      "metadata": {
        "id": "D_9wf4FFyqr6",
        "colab": {
          "base_uri": "https://localhost:8080/"
        },
        "outputId": "cadfffde-1396-49b9-c51b-97c8e81af079"
      },
      "source": [
        "# everything else is X\n",
        "# so just drop 'medv' and you are done\n",
        "X = df.drop('median_house_value', axis=1)\n",
        "print(X.shape) # note that we have gone from 14 to 13 columns, this is good! 506 rows."
      ],
      "execution_count": null,
      "outputs": [
        {
          "output_type": "stream",
          "name": "stdout",
          "text": [
            "(17000, 8)\n"
          ]
        }
      ]
    },
    {
      "cell_type": "code",
      "metadata": {
        "id": "5oPRE8wdzAHm"
      },
      "source": [
        "# now, split the data in ONE LINE OF CODE\n",
        "# notice how we are assigning four different variables at once\n",
        "# this makes it really clean\n",
        "\n",
        "# be careful of capital vs. lowercase X and Y, you might get an error...\n",
        "# notice the 80/20 split we perform\n",
        "\n",
        "X_train, X_test, y_train, y_test = train_test_split(X, Y,\n",
        "                                                    test_size = 0.2,\n",
        "                                                    shuffle = True,\n",
        "                                                    random_state = 42)"
      ],
      "execution_count": null,
      "outputs": []
    },
    {
      "cell_type": "code",
      "metadata": {
        "id": "Oov4jzsfzeaz",
        "colab": {
          "base_uri": "https://localhost:8080/"
        },
        "outputId": "de24a8ce-5bd2-4bd2-bff8-da97181aed9b"
      },
      "source": [
        "# check your work - does the shape match what you think it should be?\n",
        "print(X_train.shape, X_test.shape, y_train.shape, y_test.shape)"
      ],
      "execution_count": null,
      "outputs": [
        {
          "output_type": "stream",
          "name": "stdout",
          "text": [
            "(13600, 8) (3400, 8) (13600,) (3400,)\n"
          ]
        }
      ]
    },
    {
      "cell_type": "code",
      "metadata": {
        "id": "0B_LcMUm00Hc"
      },
      "source": [
        "# convert these all to numpy arrays\n",
        "X_train = np.array(X_train)\n",
        "X_test = np.array(X_test)\n",
        "y_train = np.array(y_train)\n",
        "y_test = np.array(y_test)"
      ],
      "execution_count": null,
      "outputs": []
    },
    {
      "cell_type": "markdown",
      "metadata": {
        "id": "E5vFxGifuPzF"
      },
      "source": [
        "## Min/Max Scaling\n",
        "This will ensure all of your X data is between 0 (min) and 1 (max). You will use fit_transform() on the train data first, then fit on the test data. If you don't do this step after splitting, you will have data leakage.\n",
        "\n",
        "Only scale the X data, not the Y data!\n",
        "\n",
        "Do yourself a favor and just overwrite X_train and X_test when standardizing, as I do below. Min/max scaling requires that the data are numpy arrays and all numeric data.\n",
        "\n",
        "\n",
        "**Like this example:**\n",
        "```\n",
        "import numpy as np\n",
        "from sklearn.preprocessing import MinMaxScaler\n",
        "\n",
        "scaler = MinMaxScaler()\n",
        "X_train = scaler.fit_transform(X_train)\n",
        "X_test = scaler.transform(X_test)\n",
        "```\n"
      ]
    },
    {
      "cell_type": "code",
      "metadata": {
        "id": "D9KyPXdiujPv"
      },
      "source": [
        "# you probably have already imported the MinMaxScale at the top of your script\n",
        "# you should convert to numpy array before scaling\n",
        "scaler = MinMaxScaler()\n",
        "X_train = scaler.fit_transform(X_train)\n",
        "X_test = scaler.transform(X_test)"
      ],
      "execution_count": null,
      "outputs": []
    },
    {
      "cell_type": "code",
      "metadata": {
        "id": "-4vlQCG01S3E",
        "colab": {
          "base_uri": "https://localhost:8080/",
          "height": 300
        },
        "outputId": "50400f04-7ae3-4daa-b426-29c94394ea32"
      },
      "source": [
        "# if you wanted to run summary stats on these to check the range,\n",
        "# you would need to convert to a pandas dataframe.\n",
        "tmp = pd.DataFrame(X_train)\n",
        "tmp.describe() # notice how all the max values are 1, all min values are 0."
      ],
      "execution_count": null,
      "outputs": [
        {
          "output_type": "execute_result",
          "data": {
            "text/plain": [
              "                  0             1             2             3             4  \\\n",
              "count  13600.000000  13600.000000  13600.000000  13600.000000  13600.000000   \n",
              "mean       0.482551      0.327069      0.542284      0.069519      0.083567   \n",
              "std        0.203859      0.226774      0.247018      0.057161      0.065365   \n",
              "min        0.000000      0.000000      0.000000      0.000000      0.000000   \n",
              "25%        0.255341      0.147715      0.333333      0.038381      0.045779   \n",
              "50%        0.592065      0.181722      0.549020      0.055964      0.067349   \n",
              "75%        0.640895      0.549416      0.705882      0.083122      0.100403   \n",
              "max        1.000000      1.000000      1.000000      1.000000      1.000000   \n",
              "\n",
              "                  5             6             7  \n",
              "count  13600.000000  13600.000000  13600.000000  \n",
              "mean       0.040048      0.082229      0.232760  \n",
              "std        0.032523      0.063121      0.131696  \n",
              "min        0.000000      0.000000      0.000000  \n",
              "25%        0.022002      0.046045      0.142507  \n",
              "50%        0.032792      0.067259      0.209383  \n",
              "75%        0.048292      0.099326      0.293106  \n",
              "max        1.000000      1.000000      1.000000  "
            ],
            "text/html": [
              "\n",
              "  <div id=\"df-ce8c052d-4686-4985-a395-101d6ec9eff9\">\n",
              "    <div class=\"colab-df-container\">\n",
              "      <div>\n",
              "<style scoped>\n",
              "    .dataframe tbody tr th:only-of-type {\n",
              "        vertical-align: middle;\n",
              "    }\n",
              "\n",
              "    .dataframe tbody tr th {\n",
              "        vertical-align: top;\n",
              "    }\n",
              "\n",
              "    .dataframe thead th {\n",
              "        text-align: right;\n",
              "    }\n",
              "</style>\n",
              "<table border=\"1\" class=\"dataframe\">\n",
              "  <thead>\n",
              "    <tr style=\"text-align: right;\">\n",
              "      <th></th>\n",
              "      <th>0</th>\n",
              "      <th>1</th>\n",
              "      <th>2</th>\n",
              "      <th>3</th>\n",
              "      <th>4</th>\n",
              "      <th>5</th>\n",
              "      <th>6</th>\n",
              "      <th>7</th>\n",
              "    </tr>\n",
              "  </thead>\n",
              "  <tbody>\n",
              "    <tr>\n",
              "      <th>count</th>\n",
              "      <td>13600.000000</td>\n",
              "      <td>13600.000000</td>\n",
              "      <td>13600.000000</td>\n",
              "      <td>13600.000000</td>\n",
              "      <td>13600.000000</td>\n",
              "      <td>13600.000000</td>\n",
              "      <td>13600.000000</td>\n",
              "      <td>13600.000000</td>\n",
              "    </tr>\n",
              "    <tr>\n",
              "      <th>mean</th>\n",
              "      <td>0.482551</td>\n",
              "      <td>0.327069</td>\n",
              "      <td>0.542284</td>\n",
              "      <td>0.069519</td>\n",
              "      <td>0.083567</td>\n",
              "      <td>0.040048</td>\n",
              "      <td>0.082229</td>\n",
              "      <td>0.232760</td>\n",
              "    </tr>\n",
              "    <tr>\n",
              "      <th>std</th>\n",
              "      <td>0.203859</td>\n",
              "      <td>0.226774</td>\n",
              "      <td>0.247018</td>\n",
              "      <td>0.057161</td>\n",
              "      <td>0.065365</td>\n",
              "      <td>0.032523</td>\n",
              "      <td>0.063121</td>\n",
              "      <td>0.131696</td>\n",
              "    </tr>\n",
              "    <tr>\n",
              "      <th>min</th>\n",
              "      <td>0.000000</td>\n",
              "      <td>0.000000</td>\n",
              "      <td>0.000000</td>\n",
              "      <td>0.000000</td>\n",
              "      <td>0.000000</td>\n",
              "      <td>0.000000</td>\n",
              "      <td>0.000000</td>\n",
              "      <td>0.000000</td>\n",
              "    </tr>\n",
              "    <tr>\n",
              "      <th>25%</th>\n",
              "      <td>0.255341</td>\n",
              "      <td>0.147715</td>\n",
              "      <td>0.333333</td>\n",
              "      <td>0.038381</td>\n",
              "      <td>0.045779</td>\n",
              "      <td>0.022002</td>\n",
              "      <td>0.046045</td>\n",
              "      <td>0.142507</td>\n",
              "    </tr>\n",
              "    <tr>\n",
              "      <th>50%</th>\n",
              "      <td>0.592065</td>\n",
              "      <td>0.181722</td>\n",
              "      <td>0.549020</td>\n",
              "      <td>0.055964</td>\n",
              "      <td>0.067349</td>\n",
              "      <td>0.032792</td>\n",
              "      <td>0.067259</td>\n",
              "      <td>0.209383</td>\n",
              "    </tr>\n",
              "    <tr>\n",
              "      <th>75%</th>\n",
              "      <td>0.640895</td>\n",
              "      <td>0.549416</td>\n",
              "      <td>0.705882</td>\n",
              "      <td>0.083122</td>\n",
              "      <td>0.100403</td>\n",
              "      <td>0.048292</td>\n",
              "      <td>0.099326</td>\n",
              "      <td>0.293106</td>\n",
              "    </tr>\n",
              "    <tr>\n",
              "      <th>max</th>\n",
              "      <td>1.000000</td>\n",
              "      <td>1.000000</td>\n",
              "      <td>1.000000</td>\n",
              "      <td>1.000000</td>\n",
              "      <td>1.000000</td>\n",
              "      <td>1.000000</td>\n",
              "      <td>1.000000</td>\n",
              "      <td>1.000000</td>\n",
              "    </tr>\n",
              "  </tbody>\n",
              "</table>\n",
              "</div>\n",
              "      <button class=\"colab-df-convert\" onclick=\"convertToInteractive('df-ce8c052d-4686-4985-a395-101d6ec9eff9')\"\n",
              "              title=\"Convert this dataframe to an interactive table.\"\n",
              "              style=\"display:none;\">\n",
              "        \n",
              "  <svg xmlns=\"http://www.w3.org/2000/svg\" height=\"24px\"viewBox=\"0 0 24 24\"\n",
              "       width=\"24px\">\n",
              "    <path d=\"M0 0h24v24H0V0z\" fill=\"none\"/>\n",
              "    <path d=\"M18.56 5.44l.94 2.06.94-2.06 2.06-.94-2.06-.94-.94-2.06-.94 2.06-2.06.94zm-11 1L8.5 8.5l.94-2.06 2.06-.94-2.06-.94L8.5 2.5l-.94 2.06-2.06.94zm10 10l.94 2.06.94-2.06 2.06-.94-2.06-.94-.94-2.06-.94 2.06-2.06.94z\"/><path d=\"M17.41 7.96l-1.37-1.37c-.4-.4-.92-.59-1.43-.59-.52 0-1.04.2-1.43.59L10.3 9.45l-7.72 7.72c-.78.78-.78 2.05 0 2.83L4 21.41c.39.39.9.59 1.41.59.51 0 1.02-.2 1.41-.59l7.78-7.78 2.81-2.81c.8-.78.8-2.07 0-2.86zM5.41 20L4 18.59l7.72-7.72 1.47 1.35L5.41 20z\"/>\n",
              "  </svg>\n",
              "      </button>\n",
              "      \n",
              "  <style>\n",
              "    .colab-df-container {\n",
              "      display:flex;\n",
              "      flex-wrap:wrap;\n",
              "      gap: 12px;\n",
              "    }\n",
              "\n",
              "    .colab-df-convert {\n",
              "      background-color: #E8F0FE;\n",
              "      border: none;\n",
              "      border-radius: 50%;\n",
              "      cursor: pointer;\n",
              "      display: none;\n",
              "      fill: #1967D2;\n",
              "      height: 32px;\n",
              "      padding: 0 0 0 0;\n",
              "      width: 32px;\n",
              "    }\n",
              "\n",
              "    .colab-df-convert:hover {\n",
              "      background-color: #E2EBFA;\n",
              "      box-shadow: 0px 1px 2px rgba(60, 64, 67, 0.3), 0px 1px 3px 1px rgba(60, 64, 67, 0.15);\n",
              "      fill: #174EA6;\n",
              "    }\n",
              "\n",
              "    [theme=dark] .colab-df-convert {\n",
              "      background-color: #3B4455;\n",
              "      fill: #D2E3FC;\n",
              "    }\n",
              "\n",
              "    [theme=dark] .colab-df-convert:hover {\n",
              "      background-color: #434B5C;\n",
              "      box-shadow: 0px 1px 3px 1px rgba(0, 0, 0, 0.15);\n",
              "      filter: drop-shadow(0px 1px 2px rgba(0, 0, 0, 0.3));\n",
              "      fill: #FFFFFF;\n",
              "    }\n",
              "  </style>\n",
              "\n",
              "      <script>\n",
              "        const buttonEl =\n",
              "          document.querySelector('#df-ce8c052d-4686-4985-a395-101d6ec9eff9 button.colab-df-convert');\n",
              "        buttonEl.style.display =\n",
              "          google.colab.kernel.accessAllowed ? 'block' : 'none';\n",
              "\n",
              "        async function convertToInteractive(key) {\n",
              "          const element = document.querySelector('#df-ce8c052d-4686-4985-a395-101d6ec9eff9');\n",
              "          const dataTable =\n",
              "            await google.colab.kernel.invokeFunction('convertToInteractive',\n",
              "                                                     [key], {});\n",
              "          if (!dataTable) return;\n",
              "\n",
              "          const docLinkHtml = 'Like what you see? Visit the ' +\n",
              "            '<a target=\"_blank\" href=https://colab.research.google.com/notebooks/data_table.ipynb>data table notebook</a>'\n",
              "            + ' to learn more about interactive tables.';\n",
              "          element.innerHTML = '';\n",
              "          dataTable['output_type'] = 'display_data';\n",
              "          await google.colab.output.renderOutput(dataTable, element);\n",
              "          const docLink = document.createElement('div');\n",
              "          docLink.innerHTML = docLinkHtml;\n",
              "          element.appendChild(docLink);\n",
              "        }\n",
              "      </script>\n",
              "    </div>\n",
              "  </div>\n",
              "  "
            ]
          },
          "metadata": {},
          "execution_count": 41
        }
      ]
    },
    {
      "cell_type": "code",
      "metadata": {
        "id": "Z0jkl5W0652p",
        "colab": {
          "base_uri": "https://localhost:8080/",
          "height": 300
        },
        "outputId": "43b4ab02-b3da-4c81-9df6-528c6e453228"
      },
      "source": [
        "# if you wanted to run summary stats on these to check the range,\n",
        "# you would need to convert to a pandas dataframe.\n",
        "tmp = pd.DataFrame(X_test)\n",
        "tmp.describe() # notice how all the max values are 1, all min values are 0.\n",
        "\n",
        "# sometimes it's less, sometimes it's more!"
      ],
      "execution_count": null,
      "outputs": [
        {
          "output_type": "execute_result",
          "data": {
            "text/plain": [
              "                 0            1            2            3            4  \\\n",
              "count  3400.000000  3400.000000  3400.000000  3400.000000  3400.000000   \n",
              "mean      0.479711     0.331056     0.535704     0.070107     0.083495   \n",
              "std       0.204498     0.228578     0.245906     0.058673     0.065596   \n",
              "min      -0.005086     0.002125     0.019608     0.000343     0.000310   \n",
              "25%       0.257375     0.147715     0.333333     0.038856     0.046051   \n",
              "50%       0.587996     0.182784     0.529412     0.056478     0.066574   \n",
              "75%       0.638861     0.552604     0.705882     0.082318     0.100597   \n",
              "max       1.016277     0.984060     1.000000     0.744853     0.768312   \n",
              "\n",
              "                 5            6            7  \n",
              "count  3400.000000  3400.000000  3400.000000  \n",
              "mean      0.039726     0.082383     0.235730  \n",
              "std       0.030730     0.063689     0.131182  \n",
              "min       0.000224     0.000164     0.000000  \n",
              "25%       0.022170     0.046538     0.142965  \n",
              "50%       0.032022     0.066601     0.212035  \n",
              "75%       0.047675     0.099490     0.296555  \n",
              "max       0.341938     0.758921     1.000000  "
            ],
            "text/html": [
              "\n",
              "  <div id=\"df-cd280f31-976a-47b4-8f73-4ee4f9685fff\">\n",
              "    <div class=\"colab-df-container\">\n",
              "      <div>\n",
              "<style scoped>\n",
              "    .dataframe tbody tr th:only-of-type {\n",
              "        vertical-align: middle;\n",
              "    }\n",
              "\n",
              "    .dataframe tbody tr th {\n",
              "        vertical-align: top;\n",
              "    }\n",
              "\n",
              "    .dataframe thead th {\n",
              "        text-align: right;\n",
              "    }\n",
              "</style>\n",
              "<table border=\"1\" class=\"dataframe\">\n",
              "  <thead>\n",
              "    <tr style=\"text-align: right;\">\n",
              "      <th></th>\n",
              "      <th>0</th>\n",
              "      <th>1</th>\n",
              "      <th>2</th>\n",
              "      <th>3</th>\n",
              "      <th>4</th>\n",
              "      <th>5</th>\n",
              "      <th>6</th>\n",
              "      <th>7</th>\n",
              "    </tr>\n",
              "  </thead>\n",
              "  <tbody>\n",
              "    <tr>\n",
              "      <th>count</th>\n",
              "      <td>3400.000000</td>\n",
              "      <td>3400.000000</td>\n",
              "      <td>3400.000000</td>\n",
              "      <td>3400.000000</td>\n",
              "      <td>3400.000000</td>\n",
              "      <td>3400.000000</td>\n",
              "      <td>3400.000000</td>\n",
              "      <td>3400.000000</td>\n",
              "    </tr>\n",
              "    <tr>\n",
              "      <th>mean</th>\n",
              "      <td>0.479711</td>\n",
              "      <td>0.331056</td>\n",
              "      <td>0.535704</td>\n",
              "      <td>0.070107</td>\n",
              "      <td>0.083495</td>\n",
              "      <td>0.039726</td>\n",
              "      <td>0.082383</td>\n",
              "      <td>0.235730</td>\n",
              "    </tr>\n",
              "    <tr>\n",
              "      <th>std</th>\n",
              "      <td>0.204498</td>\n",
              "      <td>0.228578</td>\n",
              "      <td>0.245906</td>\n",
              "      <td>0.058673</td>\n",
              "      <td>0.065596</td>\n",
              "      <td>0.030730</td>\n",
              "      <td>0.063689</td>\n",
              "      <td>0.131182</td>\n",
              "    </tr>\n",
              "    <tr>\n",
              "      <th>min</th>\n",
              "      <td>-0.005086</td>\n",
              "      <td>0.002125</td>\n",
              "      <td>0.019608</td>\n",
              "      <td>0.000343</td>\n",
              "      <td>0.000310</td>\n",
              "      <td>0.000224</td>\n",
              "      <td>0.000164</td>\n",
              "      <td>0.000000</td>\n",
              "    </tr>\n",
              "    <tr>\n",
              "      <th>25%</th>\n",
              "      <td>0.257375</td>\n",
              "      <td>0.147715</td>\n",
              "      <td>0.333333</td>\n",
              "      <td>0.038856</td>\n",
              "      <td>0.046051</td>\n",
              "      <td>0.022170</td>\n",
              "      <td>0.046538</td>\n",
              "      <td>0.142965</td>\n",
              "    </tr>\n",
              "    <tr>\n",
              "      <th>50%</th>\n",
              "      <td>0.587996</td>\n",
              "      <td>0.182784</td>\n",
              "      <td>0.529412</td>\n",
              "      <td>0.056478</td>\n",
              "      <td>0.066574</td>\n",
              "      <td>0.032022</td>\n",
              "      <td>0.066601</td>\n",
              "      <td>0.212035</td>\n",
              "    </tr>\n",
              "    <tr>\n",
              "      <th>75%</th>\n",
              "      <td>0.638861</td>\n",
              "      <td>0.552604</td>\n",
              "      <td>0.705882</td>\n",
              "      <td>0.082318</td>\n",
              "      <td>0.100597</td>\n",
              "      <td>0.047675</td>\n",
              "      <td>0.099490</td>\n",
              "      <td>0.296555</td>\n",
              "    </tr>\n",
              "    <tr>\n",
              "      <th>max</th>\n",
              "      <td>1.016277</td>\n",
              "      <td>0.984060</td>\n",
              "      <td>1.000000</td>\n",
              "      <td>0.744853</td>\n",
              "      <td>0.768312</td>\n",
              "      <td>0.341938</td>\n",
              "      <td>0.758921</td>\n",
              "      <td>1.000000</td>\n",
              "    </tr>\n",
              "  </tbody>\n",
              "</table>\n",
              "</div>\n",
              "      <button class=\"colab-df-convert\" onclick=\"convertToInteractive('df-cd280f31-976a-47b4-8f73-4ee4f9685fff')\"\n",
              "              title=\"Convert this dataframe to an interactive table.\"\n",
              "              style=\"display:none;\">\n",
              "        \n",
              "  <svg xmlns=\"http://www.w3.org/2000/svg\" height=\"24px\"viewBox=\"0 0 24 24\"\n",
              "       width=\"24px\">\n",
              "    <path d=\"M0 0h24v24H0V0z\" fill=\"none\"/>\n",
              "    <path d=\"M18.56 5.44l.94 2.06.94-2.06 2.06-.94-2.06-.94-.94-2.06-.94 2.06-2.06.94zm-11 1L8.5 8.5l.94-2.06 2.06-.94-2.06-.94L8.5 2.5l-.94 2.06-2.06.94zm10 10l.94 2.06.94-2.06 2.06-.94-2.06-.94-.94-2.06-.94 2.06-2.06.94z\"/><path d=\"M17.41 7.96l-1.37-1.37c-.4-.4-.92-.59-1.43-.59-.52 0-1.04.2-1.43.59L10.3 9.45l-7.72 7.72c-.78.78-.78 2.05 0 2.83L4 21.41c.39.39.9.59 1.41.59.51 0 1.02-.2 1.41-.59l7.78-7.78 2.81-2.81c.8-.78.8-2.07 0-2.86zM5.41 20L4 18.59l7.72-7.72 1.47 1.35L5.41 20z\"/>\n",
              "  </svg>\n",
              "      </button>\n",
              "      \n",
              "  <style>\n",
              "    .colab-df-container {\n",
              "      display:flex;\n",
              "      flex-wrap:wrap;\n",
              "      gap: 12px;\n",
              "    }\n",
              "\n",
              "    .colab-df-convert {\n",
              "      background-color: #E8F0FE;\n",
              "      border: none;\n",
              "      border-radius: 50%;\n",
              "      cursor: pointer;\n",
              "      display: none;\n",
              "      fill: #1967D2;\n",
              "      height: 32px;\n",
              "      padding: 0 0 0 0;\n",
              "      width: 32px;\n",
              "    }\n",
              "\n",
              "    .colab-df-convert:hover {\n",
              "      background-color: #E2EBFA;\n",
              "      box-shadow: 0px 1px 2px rgba(60, 64, 67, 0.3), 0px 1px 3px 1px rgba(60, 64, 67, 0.15);\n",
              "      fill: #174EA6;\n",
              "    }\n",
              "\n",
              "    [theme=dark] .colab-df-convert {\n",
              "      background-color: #3B4455;\n",
              "      fill: #D2E3FC;\n",
              "    }\n",
              "\n",
              "    [theme=dark] .colab-df-convert:hover {\n",
              "      background-color: #434B5C;\n",
              "      box-shadow: 0px 1px 3px 1px rgba(0, 0, 0, 0.15);\n",
              "      filter: drop-shadow(0px 1px 2px rgba(0, 0, 0, 0.3));\n",
              "      fill: #FFFFFF;\n",
              "    }\n",
              "  </style>\n",
              "\n",
              "      <script>\n",
              "        const buttonEl =\n",
              "          document.querySelector('#df-cd280f31-976a-47b4-8f73-4ee4f9685fff button.colab-df-convert');\n",
              "        buttonEl.style.display =\n",
              "          google.colab.kernel.accessAllowed ? 'block' : 'none';\n",
              "\n",
              "        async function convertToInteractive(key) {\n",
              "          const element = document.querySelector('#df-cd280f31-976a-47b4-8f73-4ee4f9685fff');\n",
              "          const dataTable =\n",
              "            await google.colab.kernel.invokeFunction('convertToInteractive',\n",
              "                                                     [key], {});\n",
              "          if (!dataTable) return;\n",
              "\n",
              "          const docLinkHtml = 'Like what you see? Visit the ' +\n",
              "            '<a target=\"_blank\" href=https://colab.research.google.com/notebooks/data_table.ipynb>data table notebook</a>'\n",
              "            + ' to learn more about interactive tables.';\n",
              "          element.innerHTML = '';\n",
              "          dataTable['output_type'] = 'display_data';\n",
              "          await google.colab.output.renderOutput(dataTable, element);\n",
              "          const docLink = document.createElement('div');\n",
              "          docLink.innerHTML = docLinkHtml;\n",
              "          element.appendChild(docLink);\n",
              "        }\n",
              "      </script>\n",
              "    </div>\n",
              "  </div>\n",
              "  "
            ]
          },
          "metadata": {},
          "execution_count": 42
        }
      ]
    },
    {
      "cell_type": "markdown",
      "metadata": {
        "id": "SjiD7wWVtT5X"
      },
      "source": [
        "## Fit The Model\n",
        "Fit the model and make new variables to save your train and test predictions. Make sure you are using the appropriate regression or classification model.\n",
        "\n",
        "Notice how we're using the same training data and test data for each model - this is critical!\n",
        "\n",
        "Also note that in many StackOverflow examples, folks don't use 'DTR' or 'LR' as variable names for their models - instead, they often use 'clf' which stands for classifier. Helps you abstract what's going on."
      ]
    },
    {
      "cell_type": "markdown",
      "metadata": {
        "id": "Ty9TvxgeTWyR"
      },
      "source": [
        "### Logistic Regression"
      ]
    },
    {
      "cell_type": "code",
      "metadata": {
        "id": "AqItXv4DTY3Z"
      },
      "source": [
        "# make a variable to store the general model\n",
        "LR = LogisticRegression()\n",
        "# fit the model - one line of code\n",
        "LR = LR.fit(X_train, y_train)"
      ],
      "execution_count": null,
      "outputs": []
    },
    {
      "cell_type": "code",
      "metadata": {
        "id": "xMsi5ErbTtyh"
      },
      "source": [
        "# store the predictions\n",
        "train_preds_LR = LR.predict(X_train)\n",
        "test_preds_LR = LR.predict(X_test)"
      ],
      "execution_count": null,
      "outputs": []
    },
    {
      "cell_type": "markdown",
      "metadata": {
        "id": "6M9s1ftuTVBC"
      },
      "source": [
        "### DTC\n",
        "\n",
        "Check out the model documentation:\n",
        "\n",
        "**DTC Model Documentation:** https://scikit-learn.org/stable/modules/generated/sklearn.tree.DecisionTreeClassifier.html\n",
        "\n",
        "\n",
        "Some extra content to think about...\n",
        "\n",
        "**Link:** https://scikit-learn.org/stable/auto_examples/tree/plot_cost_complexity_pruning.html\n",
        "\n",
        "**Link:** https://scikit-learn.org/stable/modules/tree.html"
      ]
    },
    {
      "cell_type": "code",
      "metadata": {
        "id": "g5_x7INZt02l"
      },
      "source": [
        "# make a variable to store the general model\n",
        "# you can accept all of the defaults...\n",
        "DTC = DecisionTreeClassifier(min_samples_split=15)\n",
        "# or start to 'tinker'\n",
        "#DTC = DecisionTreeClassifier(criterion='entropy',\n",
        "#                            min_samples_split=15) # make this bigger and the tree will shrink!\n",
        "\n",
        "# fit the model - one line of code\n",
        "DTC = DTC.fit(X_train, y_train)"
      ],
      "execution_count": null,
      "outputs": []
    },
    {
      "cell_type": "code",
      "metadata": {
        "id": "KDWWnOoM12Qu"
      },
      "source": [
        "# store the predictions\n",
        "train_preds_DTC = DTC.predict(X_train)\n",
        "test_preds_DTC = DTC.predict(X_test)"
      ],
      "execution_count": null,
      "outputs": []
    },
    {
      "cell_type": "code",
      "metadata": {
        "id": "koZDgtNBVQIX"
      },
      "source": [
        "# # show the tree\n",
        "# # link: https://www.datacamp.com/community/tutorials/decision-tree-classification-python\n",
        "# from sklearn.tree import export_graphviz\n",
        "# from six import StringIO\n",
        "# from IPython.display import Image\n",
        "# import pydotplus\n",
        "\n",
        "# dot_data = StringIO()\n",
        "# export_graphviz(DTC,  # this is the name of your model!\n",
        "#                 out_file=dot_data,\n",
        "#                 filled=True, rounded=True,\n",
        "#                 special_characters=True)\n",
        "# graph = pydotplus.graph_from_dot_data(dot_data.getvalue())\n",
        "# Image(graph.create_png())\n",
        "\n",
        "# # hard to see, but that's OK!\n",
        "# # we will learn about partial depenence\n",
        "# # and feature importance with is way easier to see than this\n",
        "\n",
        "# # for now, just appreciate how awesome this looks!\n",
        "# # double click and you can see"
      ],
      "execution_count": null,
      "outputs": []
    },
    {
      "cell_type": "markdown",
      "metadata": {
        "id": "vRsCK_5Jtb0Z"
      },
      "source": [
        "## Evaluate the Model\n",
        "Look at the appropriate error metrics depending on the problem you are solving.\n",
        "\n",
        "For a regression problem, look at the R2, MAE and MSE; then make a scatterplot of actual vs. predicted values with nice labels and titles.\n",
        "\n",
        "For a classification problem, create the classification report (gives a confusion matrix and useful metrics in one line of code).\n",
        "\n",
        "See how we are just tacking on a suffix like '_LR' or '_DTR' on the end of things? Keep your code clean and you can just copy paste. Same stuff as before, but we need to be organized since we are introducing more models."
      ]
    },
    {
      "cell_type": "markdown",
      "metadata": {
        "id": "Ow0g7E0j7mQW"
      },
      "source": [
        "## Confusion Matrix\n",
        "Look for 'consistency' between the two partitions (train and test)!"
      ]
    },
    {
      "cell_type": "markdown",
      "metadata": {
        "id": "B5AUiedL7rUo"
      },
      "source": [
        "### LR\n"
      ]
    },
    {
      "cell_type": "code",
      "metadata": {
        "id": "3AsAl7MD9Dr_",
        "colab": {
          "base_uri": "https://localhost:8080/"
        },
        "outputId": "067944ca-e450-4695-9178-dca0f390ed10"
      },
      "source": [
        "# train confusion matrix\n",
        "confusion_matrix(y_train, train_preds_LR)"
      ],
      "execution_count": null,
      "outputs": [
        {
          "output_type": "execute_result",
          "data": {
            "text/plain": [
              "array([[5670, 1182],\n",
              "       [1171, 5577]])"
            ]
          },
          "metadata": {},
          "execution_count": 48
        }
      ]
    },
    {
      "cell_type": "code",
      "metadata": {
        "id": "mbELQKmn9ErN",
        "colab": {
          "base_uri": "https://localhost:8080/"
        },
        "outputId": "f28fdd6f-7e65-4cf0-dbfe-a2754b1f63b2"
      },
      "source": [
        "# test confusion matrix\n",
        "confusion_matrix(y_test, test_preds_LR)"
      ],
      "execution_count": null,
      "outputs": [
        {
          "output_type": "execute_result",
          "data": {
            "text/plain": [
              "array([[1377,  279],\n",
              "       [ 319, 1425]])"
            ]
          },
          "metadata": {},
          "execution_count": 49
        }
      ]
    },
    {
      "cell_type": "markdown",
      "metadata": {
        "id": "-BG9Df2Z7s6t"
      },
      "source": [
        "### DTC"
      ]
    },
    {
      "cell_type": "code",
      "metadata": {
        "id": "RX4Dz8ro9nD5",
        "colab": {
          "base_uri": "https://localhost:8080/"
        },
        "outputId": "5fc1633c-02f5-43d7-a4a4-066abf0ed04c"
      },
      "source": [
        "# train confusion matrix\n",
        "confusion_matrix(y_train, train_preds_DTC)"
      ],
      "execution_count": null,
      "outputs": [
        {
          "output_type": "execute_result",
          "data": {
            "text/plain": [
              "array([[6527,  325],\n",
              "       [ 375, 6373]])"
            ]
          },
          "metadata": {},
          "execution_count": 50
        }
      ]
    },
    {
      "cell_type": "code",
      "metadata": {
        "id": "TteOZvV89p7R",
        "colab": {
          "base_uri": "https://localhost:8080/"
        },
        "outputId": "fedf9047-d509-47b2-c6c1-3dcfbb078981"
      },
      "source": [
        "# test confusion matrix\n",
        "confusion_matrix(y_test, test_preds_DTC)"
      ],
      "execution_count": null,
      "outputs": [
        {
          "output_type": "execute_result",
          "data": {
            "text/plain": [
              "array([[1426,  230],\n",
              "       [ 282, 1462]])"
            ]
          },
          "metadata": {},
          "execution_count": 51
        }
      ]
    },
    {
      "cell_type": "markdown",
      "metadata": {
        "id": "ADcugqO67oLe"
      },
      "source": [
        "## Classification Report"
      ]
    },
    {
      "cell_type": "markdown",
      "metadata": {
        "id": "6FIuf_1i7v4V"
      },
      "source": [
        "### LR"
      ]
    },
    {
      "cell_type": "code",
      "metadata": {
        "id": "bUw0UJKC9tkk",
        "colab": {
          "base_uri": "https://localhost:8080/"
        },
        "outputId": "bd63c430-d1c5-42e2-8ec5-3016bfecbf01"
      },
      "source": [
        "# train report\n",
        "trainReport_LR = classification_report(y_train, train_preds_LR)\n",
        "print(trainReport_LR)"
      ],
      "execution_count": null,
      "outputs": [
        {
          "output_type": "stream",
          "name": "stdout",
          "text": [
            "              precision    recall  f1-score   support\n",
            "\n",
            "           0       0.83      0.83      0.83      6852\n",
            "           1       0.83      0.83      0.83      6748\n",
            "\n",
            "    accuracy                           0.83     13600\n",
            "   macro avg       0.83      0.83      0.83     13600\n",
            "weighted avg       0.83      0.83      0.83     13600\n",
            "\n"
          ]
        }
      ]
    },
    {
      "cell_type": "code",
      "metadata": {
        "id": "s2-AZ3QW9tuk",
        "colab": {
          "base_uri": "https://localhost:8080/"
        },
        "outputId": "948a7a8a-ceb1-40ca-aa1e-bdfe377a749a"
      },
      "source": [
        "# test report\n",
        "testReport_LR = classification_report(y_test, test_preds_LR)\n",
        "print(testReport_LR)"
      ],
      "execution_count": null,
      "outputs": [
        {
          "output_type": "stream",
          "name": "stdout",
          "text": [
            "              precision    recall  f1-score   support\n",
            "\n",
            "           0       0.81      0.83      0.82      1656\n",
            "           1       0.84      0.82      0.83      1744\n",
            "\n",
            "    accuracy                           0.82      3400\n",
            "   macro avg       0.82      0.82      0.82      3400\n",
            "weighted avg       0.82      0.82      0.82      3400\n",
            "\n"
          ]
        }
      ]
    },
    {
      "cell_type": "markdown",
      "metadata": {
        "id": "_Aj5eCQj7w8b"
      },
      "source": [
        "### DTC"
      ]
    },
    {
      "cell_type": "code",
      "metadata": {
        "id": "bt3MYr7K-KdW",
        "colab": {
          "base_uri": "https://localhost:8080/"
        },
        "outputId": "d7a90785-609d-4036-f5f1-492490ce3e8d"
      },
      "source": [
        "# train report\n",
        "trainReport_DTC = classification_report(y_train, train_preds_DTC)\n",
        "print(trainReport_DTC)"
      ],
      "execution_count": null,
      "outputs": [
        {
          "output_type": "stream",
          "name": "stdout",
          "text": [
            "              precision    recall  f1-score   support\n",
            "\n",
            "           0       0.95      0.95      0.95      6852\n",
            "           1       0.95      0.94      0.95      6748\n",
            "\n",
            "    accuracy                           0.95     13600\n",
            "   macro avg       0.95      0.95      0.95     13600\n",
            "weighted avg       0.95      0.95      0.95     13600\n",
            "\n"
          ]
        }
      ]
    },
    {
      "cell_type": "code",
      "metadata": {
        "id": "Xq_EYxyp-N6w",
        "colab": {
          "base_uri": "https://localhost:8080/"
        },
        "outputId": "19a79b16-3233-494b-cf65-201e60210f75"
      },
      "source": [
        "# test report\n",
        "testReport_DTC = classification_report(y_test, test_preds_DTC)\n",
        "print(testReport_DTC)"
      ],
      "execution_count": null,
      "outputs": [
        {
          "output_type": "stream",
          "name": "stdout",
          "text": [
            "              precision    recall  f1-score   support\n",
            "\n",
            "           0       0.83      0.86      0.85      1656\n",
            "           1       0.86      0.84      0.85      1744\n",
            "\n",
            "    accuracy                           0.85      3400\n",
            "   macro avg       0.85      0.85      0.85      3400\n",
            "weighted avg       0.85      0.85      0.85      3400\n",
            "\n"
          ]
        }
      ]
    },
    {
      "cell_type": "markdown",
      "metadata": {
        "id": "h-4AbBzY3wSJ"
      },
      "source": [
        "# Done!\n",
        "You have just completed a very simple ML framework for classification modeling. Even though you used a linear regression, you still got great results.\n",
        "\n",
        "Later on, you will expand on these topics and start fitting multiple models, and may start tweaking them ('hyperparameter tuning') to get even better peformance. Sit tight!"
      ]
    }
  ]
}